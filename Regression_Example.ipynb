{
  "nbformat": 4,
  "nbformat_minor": 0,
  "metadata": {
    "colab": {
      "provenance": [],
      "authorship_tag": "ABX9TyOQ/mrtuFXCDBp5rdVt3mgN",
      "include_colab_link": true
    },
    "kernelspec": {
      "name": "python3",
      "display_name": "Python 3"
    },
    "language_info": {
      "name": "python"
    }
  },
  "cells": [
    {
      "cell_type": "markdown",
      "metadata": {
        "id": "view-in-github",
        "colab_type": "text"
      },
      "source": [
        "<a href=\"https://colab.research.google.com/github/KalinduLakshan/EE7204_EG_2019_3649_TakeHomeAssignment_01/blob/master/Regression_Example.ipynb\" target=\"_parent\"><img src=\"https://colab.research.google.com/assets/colab-badge.svg\" alt=\"Open In Colab\"/></a>"
      ]
    },
    {
      "cell_type": "code",
      "execution_count": 12,
      "metadata": {
        "id": "3iDDWUlzmTE-"
      },
      "outputs": [],
      "source": [
        "import numpy as np\n",
        "import os\n",
        "import pandas as pd\n",
        "import matplotlib.pyplot as plt\n",
        "import seaborn as sns"
      ]
    },
    {
      "cell_type": "code",
      "source": [
        "# Reading the csv file\n",
        "df = pd.read_csv('insurance.csv')\n",
        "df.head()"
      ],
      "metadata": {
        "id": "BGkqhdt7nh6O"
      },
      "execution_count": null,
      "outputs": []
    },
    {
      "cell_type": "code",
      "source": [
        "# To display the statistical information of the dataset\n",
        "df.describe()"
      ],
      "metadata": {
        "id": "mEYojD9woSOl"
      },
      "execution_count": null,
      "outputs": []
    },
    {
      "cell_type": "code",
      "source": [
        "df.info()"
      ],
      "metadata": {
        "id": "g8sqCRuZov8k"
      },
      "execution_count": null,
      "outputs": []
    },
    {
      "cell_type": "code",
      "source": [
        "# Displaying the dimension of the dataset\n",
        "df.shape"
      ],
      "metadata": {
        "id": "7x0Gr_RIpyW_"
      },
      "execution_count": null,
      "outputs": []
    },
    {
      "cell_type": "code",
      "source": [
        "# Dsplaying the data coloumn\n",
        "df['age']"
      ],
      "metadata": {
        "id": "zzyEX_8Dp8IS"
      },
      "execution_count": null,
      "outputs": []
    },
    {
      "cell_type": "code",
      "source": [
        "# Displaying the row and column seperately\n",
        "print('Rows', df.shape[0])\n",
        "print('Columns', df.shape[1])"
      ],
      "metadata": {
        "id": "2QITSOOgqSVK"
      },
      "execution_count": null,
      "outputs": []
    },
    {
      "cell_type": "code",
      "source": [
        "# Generating a heatmap\n",
        "sns.heatmap(df.T.isnull())"
      ],
      "metadata": {
        "id": "eNMNNSdVvpC8"
      },
      "execution_count": null,
      "outputs": []
    },
    {
      "cell_type": "code",
      "source": [
        "df.dtypes\n",
        "df.select_dtypes(include=\"object\")"
      ],
      "metadata": {
        "id": "DSAr_SMgwS9u"
      },
      "execution_count": null,
      "outputs": []
    },
    {
      "cell_type": "code",
      "source": [
        "df.smoker = df.smoker.map({'yes': 1, 'no': 0})"
      ],
      "metadata": {
        "id": "_19ff2cuzAOF"
      },
      "execution_count": 41,
      "outputs": []
    },
    {
      "cell_type": "code",
      "source": [
        "df.head()"
      ],
      "metadata": {
        "id": "VUZKFq9V0srv"
      },
      "execution_count": null,
      "outputs": []
    },
    {
      "cell_type": "code",
      "source": [
        "df.sex = df.sex.map({'female': 0, 'male': 1})"
      ],
      "metadata": {
        "id": "H81gQP0Q1Eka"
      },
      "execution_count": 43,
      "outputs": []
    },
    {
      "cell_type": "code",
      "source": [
        "df.head()"
      ],
      "metadata": {
        "id": "XUREXSox1M_Q"
      },
      "execution_count": null,
      "outputs": []
    },
    {
      "cell_type": "code",
      "source": [
        "df.region.unique()"
      ],
      "metadata": {
        "colab": {
          "base_uri": "https://localhost:8080/"
        },
        "id": "IE2NB7b01SZA",
        "outputId": "c1d3126e-6a85-421a-b240-5913ab6c9a8c"
      },
      "execution_count": 45,
      "outputs": [
        {
          "output_type": "execute_result",
          "data": {
            "text/plain": [
              "array(['southwest', 'southeast', 'northwest', 'northeast'], dtype=object)"
            ]
          },
          "metadata": {},
          "execution_count": 45
        }
      ]
    },
    {
      "cell_type": "code",
      "source": [
        "df.region = df.region.map({\n",
        "    \"southwest\": 1,\n",
        "    \"southeast\": 2,\n",
        "    \"northwest\": 3,\n",
        "    \"northeast\": 4\n",
        "})"
      ],
      "metadata": {
        "id": "np-LxIuL1gW6"
      },
      "execution_count": 47,
      "outputs": []
    },
    {
      "cell_type": "code",
      "source": [
        "df.head()"
      ],
      "metadata": {
        "id": "V08s6syW10TW"
      },
      "execution_count": null,
      "outputs": []
    },
    {
      "cell_type": "code",
      "source": [
        "df.describe()"
      ],
      "metadata": {
        "id": "uMqcyrSS15Or"
      },
      "execution_count": null,
      "outputs": []
    },
    {
      "cell_type": "code",
      "source": [
        "# Store Feature Matrix In X and Response(Target) In Vector y\n",
        "X = df.drop([\"charges\"], axis=1)\n",
        "Y = df[\"charges\"]"
      ],
      "metadata": {
        "id": "qtgPpAFG2Ab2"
      },
      "execution_count": 50,
      "outputs": []
    },
    {
      "cell_type": "code",
      "source": [
        "# Train/Test split\n",
        "from sklearn.model_selection import train_test_split\n",
        "X_train, X_test, Y_train, Y_test = train_test_split(X, Y, test_size=0.2, random_state=42)"
      ],
      "metadata": {
        "id": "wgvP0Hu72YmG"
      },
      "execution_count": 51,
      "outputs": []
    },
    {
      "cell_type": "code",
      "source": [
        "# Models\n",
        "from sklearn.svm import SVR\n",
        "from sklearn.linear_model import LinearRegression\n",
        "from sklearn.ensemble import RandomForestRegressor\n",
        "from  sklearn.ensemble import GradientBoostingRegressor"
      ],
      "metadata": {
        "id": "7M1IvLjv21dX"
      },
      "execution_count": 52,
      "outputs": []
    },
    {
      "cell_type": "code",
      "source": [
        "# Model Training\n",
        "lr = LinearRegression()\n",
        "lr.fit(X_train, Y_train)"
      ],
      "metadata": {
        "id": "Uh3GkqU73gXG"
      },
      "execution_count": null,
      "outputs": []
    },
    {
      "cell_type": "code",
      "source": [
        "svm = SVR()\n",
        "svm.fit(X_train, Y_train)"
      ],
      "metadata": {
        "id": "K5wvq6zf31aL"
      },
      "execution_count": null,
      "outputs": []
    },
    {
      "cell_type": "code",
      "source": [
        "rf = RandomForestRegressor()\n",
        "rf.fit(X_train, Y_train)"
      ],
      "metadata": {
        "id": "L40nmTz739J3"
      },
      "execution_count": null,
      "outputs": []
    },
    {
      "cell_type": "code",
      "source": [
        "gr = GradientBoostingRegressor()\n",
        "gr.fit(X_train, Y_train)"
      ],
      "metadata": {
        "id": "NvouxBKX4Kgz"
      },
      "execution_count": null,
      "outputs": []
    },
    {
      "cell_type": "code",
      "source": [
        "# Prediction on Test Data\n"
      ],
      "metadata": {
        "id": "8yhnFlVH4XAw"
      },
      "execution_count": null,
      "outputs": []
    }
  ]
}